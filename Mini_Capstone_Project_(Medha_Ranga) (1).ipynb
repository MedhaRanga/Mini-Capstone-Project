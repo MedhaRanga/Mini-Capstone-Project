{
 "cells": [
  {
   "cell_type": "markdown",
   "metadata": {
    "id": "A40wGDDlqeUB"
   },
   "source": [
    "# **MINI CAPSTONE PROJECT**\n",
    "## **(Telco Customer Churn Data)**\n"
   ]
  },
  {
   "cell_type": "markdown",
   "metadata": {
    "id": "sG97rjc0sMiA"
   },
   "source": [
    "## **Introduction to DataSet**"
   ]
  },
  {
   "cell_type": "markdown",
   "metadata": {
    "id": "WWpdL4EGsX3W"
   },
   "source": [
    "The dataset tracks the 3rd quarter customer churn of a fictional telco company that provides home phone and Internet services in California based on various factors. The churn column indicates whether the customer departed in Quarter 3 or not. Other columns include gender, dependents, payment methods, monthly charges, and many with information about the types of services each customer has.\n",
    "\n",
    "In this project we are going to address certain questions using Python.\n",
    "\n",
    "Variables in this dataset are :\n",
    "\n",
    "1. **CustomerID**: A unique ID that identifies each customer.\n",
    "\n",
    "2. **Count**: A value used in reporting/dashboarding to sum up the number of customers in a filtered set.\n",
    "\n",
    "3. **Country**: The country of the customer’s primary residence.\n",
    "\n",
    "4. **State**: The state of the customer’s primary residence.\n",
    "\n",
    "5. **City**: The city of the customer’s primary residence.\n",
    "\n",
    "6. **Zip Code**: The zip code of the customer’s primary residence.\n",
    "\n",
    "7. **Lat Long**: The combined latitude and longitude of the customer’s primary residence.\n",
    "\n",
    "8. **Latitude**: The latitude of the customer’s primary residence.\n",
    "\n",
    "9. **Longitude**: The longitude of the customer’s primary residence.\n",
    "\n",
    "10. **Gender**:The gender of customer.\n",
    "\n",
    "11. **Senior Citizen**: Indicates if the customer is 65 or old.\n",
    "\n",
    "12. **Partner**: Whether the customer has a partner or not.\n",
    "\n",
    "13. **Dependents**: Whether the customer lives with any dependents or not. \n",
    "\n",
    "14. **Tenure Months**: Total months that the customer has been with the company by the end of quarter3.\n",
    "\n",
    "15. **Phone Service**: Whether the customer subscribes to home phone service or not.\n",
    "\n",
    "16. **Multiple Lines**: Whether the customer subscribes to multiple telephone lines or not.\n",
    "\n",
    "17. **Internet Service**: Indicates if the customer subscribes to Internet service with the company.\n",
    "\n",
    "18. **Online Security**: Whether the customer subscribes to an additional online security service or not.\n",
    "\n",
    "19. **Online Backup**: Whether the customer subscribes to an additional online backup service or not.\n",
    "\n",
    "20. **Device Protection**: Whether the customer subscribes to an additional device protection plan for their Internet equipment or not.\n",
    "\n",
    "21. **Tech Support**: Whether the customer subscribes to an additional technical support plan with reduced wait times or not.\n",
    "\n",
    "22. **Streaming TV**: Whether the customer uses their Internet service to stream television programming from a third party provider or not. \n",
    "\n",
    "23. **Streaming Movies**: Whether the customer uses their Internet service to stream movies from a third party provider or not. \n",
    "\n",
    "24. **Contract**: Indicates the customer’s current contract type (Month-to-Month, One Year, Two Year)\n",
    "\n",
    "25. **Paperless Billing**: Whether the customer has chosen paperless billing or not.\n",
    "\n",
    "26. **Payment Method**: Indicates how the customer pays their bill (Bank Withdrawal, Credit Card, Mailed Check).\n",
    "\n",
    "27. **Monthly Charge**: Customer’s current total monthly charge for their services.\n",
    "\n",
    "28. **Total Charges**: Customer’s total charges, calculated to the end of quarter 3.\n",
    "\n",
    "29. **Churn Label**: Yes = the customer left the company this quarter. No = the customer remained with the company. Directly related to Churn Value.\n",
    "\n",
    "30. **Churn Value**: 1 = the customer left the company this quarter. 0 = the customer remained with the company. Directly related to Churn Label.\n",
    "\n",
    "31. **Churn Score**: A value from 0-100 that is calculated using the predictive tool IBM SPSS Modeler. The model incorporates multiple factors known to cause churn. The higher the score, the more likely the customer will churn.\n",
    "\n",
    "32. **CLTV**: Customer Lifetime Value.The higher the value, the more valuable the customer. High value customers should be monitored for churn.\n",
    "\n",
    "33. **Churn Reason**: A customer’s reason for leaving the company.\n"
   ]
  },
  {
   "cell_type": "markdown",
   "metadata": {
    "id": "Rn1nsowuVmap"
   },
   "source": [
    "### **Understanding the dataset**\n",
    "\n",
    "Firstly, let us understand about variables in detail. Most of the columns of the given dataset are self explanatory in nature. But, there are also a few variables, namely churn label, churn value and churn score that needs to be understood more clearly. Churn Label and Churn Value are directly related to each other.\n",
    "\n",
    "Churn Label: It is a qualitative variable that can either be \"Yes\" or \"No\". If a customer leaves the company in Quarter 3, we indicate Churn Label as \"Yes\" and no otherwise. \n",
    "\n",
    "Churn Value: It is also a qualitative variable that can either be 0 or 1. If a customer has left the company in Quarter 3, we indicate Churn value as 1 and 0 otherwise. \n",
    "\n",
    "Churn Score: It is a quantitative variable that takes value from 0-100. The higher the Churn score, the more likely the customer will leave the company."
   ]
  },
  {
   "cell_type": "markdown",
   "metadata": {
    "id": "ZOtYG-AE27Vs"
   },
   "source": [
    "### **Importing libraries**\n",
    "\n",
    "We are importing 'Pandas library' and 'Numpy library' for analysis. For data visualization , we use 'Matplotlib' and 'Seaborn'."
   ]
  },
  {
   "cell_type": "code",
   "execution_count": 1,
   "metadata": {
    "id": "H0QSt6hNmMtP"
   },
   "outputs": [],
   "source": [
    "import pandas as pd\n",
    "import numpy as np\n",
    "import matplotlib.pyplot as plt\n",
    "import matplotlib.colors as mcolors\n",
    "import seaborn as sns"
   ]
  },
  {
   "cell_type": "markdown",
   "metadata": {
    "id": "d_etCI9_oHlF"
   },
   "source": [
    "Now let us answer questions."
   ]
  },
  {
   "cell_type": "markdown",
   "metadata": {
    "id": "l8Q5vTvEktBS"
   },
   "source": [
    "## **Q1: Please read the file and explain data types statistically as well as how python is reading it. Please let us know if any data type is read wrong.**"
   ]
  },
  {
   "cell_type": "markdown",
   "metadata": {
    "id": "La7NEKPW3lCG"
   },
   "source": [
    "### **Reading a file**\n",
    "\n",
    "Here, we have data in Excel format. To read it as a dataframe , we are using pd.read_excel( ) method. \n",
    "\n",
    "Additionally, we are assigning it to a variable named \"df\"."
   ]
  },
  {
   "cell_type": "code",
   "execution_count": 2,
   "metadata": {
    "colab": {
     "base_uri": "https://localhost:8080/",
     "height": 748
    },
    "id": "-t4yBVv33r19",
    "outputId": "f4a0b0e7-241f-43b6-f594-df4cfc4a59df"
   },
   "outputs": [
    {
     "data": {
      "text/html": [
       "\n",
       "  <div id=\"df-c29260b4-2957-4783-8093-503cc21a6936\">\n",
       "    <div class=\"colab-df-container\">\n",
       "      <div>\n",
       "<style scoped>\n",
       "    .dataframe tbody tr th:only-of-type {\n",
       "        vertical-align: middle;\n",
       "    }\n",
       "\n",
       "    .dataframe tbody tr th {\n",
       "        vertical-align: top;\n",
       "    }\n",
       "\n",
       "    .dataframe thead th {\n",
       "        text-align: right;\n",
       "    }\n",
       "</style>\n",
       "<table border=\"1\" class=\"dataframe\">\n",
       "  <thead>\n",
       "    <tr style=\"text-align: right;\">\n",
       "      <th></th>\n",
       "      <th>CustomerID</th>\n",
       "      <th>Count</th>\n",
       "      <th>Country</th>\n",
       "      <th>State</th>\n",
       "      <th>City</th>\n",
       "      <th>Zip Code</th>\n",
       "      <th>Lat Long</th>\n",
       "      <th>Latitude</th>\n",
       "      <th>Longitude</th>\n",
       "      <th>Gender</th>\n",
       "      <th>...</th>\n",
       "      <th>Contract</th>\n",
       "      <th>Paperless Billing</th>\n",
       "      <th>Payment Method</th>\n",
       "      <th>Monthly Charges</th>\n",
       "      <th>Total Charges</th>\n",
       "      <th>Churn Label</th>\n",
       "      <th>Churn Value</th>\n",
       "      <th>Churn Score</th>\n",
       "      <th>CLTV</th>\n",
       "      <th>Churn Reason</th>\n",
       "    </tr>\n",
       "  </thead>\n",
       "  <tbody>\n",
       "    <tr>\n",
       "      <th>0</th>\n",
       "      <td>3668-QPYBK</td>\n",
       "      <td>1.0</td>\n",
       "      <td>United States</td>\n",
       "      <td>California</td>\n",
       "      <td>Los Angeles</td>\n",
       "      <td>90003.0</td>\n",
       "      <td>33.964131, -118.272783</td>\n",
       "      <td>33.964131</td>\n",
       "      <td>-118.272783</td>\n",
       "      <td>Male</td>\n",
       "      <td>...</td>\n",
       "      <td>Month-to-month</td>\n",
       "      <td>Yes</td>\n",
       "      <td>Mailed check</td>\n",
       "      <td>53.85</td>\n",
       "      <td>108.15</td>\n",
       "      <td>Yes</td>\n",
       "      <td>1.0</td>\n",
       "      <td>86.0</td>\n",
       "      <td>3239.0</td>\n",
       "      <td>Competitor made better offer</td>\n",
       "    </tr>\n",
       "    <tr>\n",
       "      <th>1</th>\n",
       "      <td>9237-HQITU</td>\n",
       "      <td>1.0</td>\n",
       "      <td>United States</td>\n",
       "      <td>California</td>\n",
       "      <td>Los Angeles</td>\n",
       "      <td>90005.0</td>\n",
       "      <td>34.059281, -118.30742</td>\n",
       "      <td>34.059281</td>\n",
       "      <td>-118.307420</td>\n",
       "      <td>Female</td>\n",
       "      <td>...</td>\n",
       "      <td>Month-to-month</td>\n",
       "      <td>Yes</td>\n",
       "      <td>Electronic check</td>\n",
       "      <td>70.70</td>\n",
       "      <td>151.65</td>\n",
       "      <td>Yes</td>\n",
       "      <td>1.0</td>\n",
       "      <td>67.0</td>\n",
       "      <td>2701.0</td>\n",
       "      <td>Moved</td>\n",
       "    </tr>\n",
       "    <tr>\n",
       "      <th>2</th>\n",
       "      <td>9305-CDSKC</td>\n",
       "      <td>1.0</td>\n",
       "      <td>United States</td>\n",
       "      <td>California</td>\n",
       "      <td>Los Angeles</td>\n",
       "      <td>90006.0</td>\n",
       "      <td>34.048013, -118.293953</td>\n",
       "      <td>34.048013</td>\n",
       "      <td>-118.293953</td>\n",
       "      <td>Female</td>\n",
       "      <td>...</td>\n",
       "      <td>Month-to-month</td>\n",
       "      <td>Yes</td>\n",
       "      <td>Electronic check</td>\n",
       "      <td>99.65</td>\n",
       "      <td>820.5</td>\n",
       "      <td>Yes</td>\n",
       "      <td>1.0</td>\n",
       "      <td>86.0</td>\n",
       "      <td>5372.0</td>\n",
       "      <td>Moved</td>\n",
       "    </tr>\n",
       "    <tr>\n",
       "      <th>3</th>\n",
       "      <td>7892-POOKP</td>\n",
       "      <td>1.0</td>\n",
       "      <td>United States</td>\n",
       "      <td>California</td>\n",
       "      <td>Los Angeles</td>\n",
       "      <td>90010.0</td>\n",
       "      <td>34.062125, -118.315709</td>\n",
       "      <td>34.062125</td>\n",
       "      <td>-118.315709</td>\n",
       "      <td>Female</td>\n",
       "      <td>...</td>\n",
       "      <td>Month-to-month</td>\n",
       "      <td>Yes</td>\n",
       "      <td>Electronic check</td>\n",
       "      <td>104.80</td>\n",
       "      <td>3046.05</td>\n",
       "      <td>Yes</td>\n",
       "      <td>1.0</td>\n",
       "      <td>84.0</td>\n",
       "      <td>5003.0</td>\n",
       "      <td>Moved</td>\n",
       "    </tr>\n",
       "    <tr>\n",
       "      <th>4</th>\n",
       "      <td>0280-XJGEX</td>\n",
       "      <td>1.0</td>\n",
       "      <td>United States</td>\n",
       "      <td>California</td>\n",
       "      <td>Los Angeles</td>\n",
       "      <td>90015.0</td>\n",
       "      <td>34.039224, -118.266293</td>\n",
       "      <td>34.039224</td>\n",
       "      <td>-118.266293</td>\n",
       "      <td>Male</td>\n",
       "      <td>...</td>\n",
       "      <td>Month-to-month</td>\n",
       "      <td>Yes</td>\n",
       "      <td>Bank transfer (automatic)</td>\n",
       "      <td>103.70</td>\n",
       "      <td>5036.3</td>\n",
       "      <td>Yes</td>\n",
       "      <td>1.0</td>\n",
       "      <td>89.0</td>\n",
       "      <td>5340.0</td>\n",
       "      <td>Competitor had better devices</td>\n",
       "    </tr>\n",
       "    <tr>\n",
       "      <th>...</th>\n",
       "      <td>...</td>\n",
       "      <td>...</td>\n",
       "      <td>...</td>\n",
       "      <td>...</td>\n",
       "      <td>...</td>\n",
       "      <td>...</td>\n",
       "      <td>...</td>\n",
       "      <td>...</td>\n",
       "      <td>...</td>\n",
       "      <td>...</td>\n",
       "      <td>...</td>\n",
       "      <td>...</td>\n",
       "      <td>...</td>\n",
       "      <td>...</td>\n",
       "      <td>...</td>\n",
       "      <td>...</td>\n",
       "      <td>...</td>\n",
       "      <td>...</td>\n",
       "      <td>...</td>\n",
       "      <td>...</td>\n",
       "      <td>...</td>\n",
       "    </tr>\n",
       "    <tr>\n",
       "      <th>7038</th>\n",
       "      <td>2569-WGERO</td>\n",
       "      <td>1.0</td>\n",
       "      <td>United States</td>\n",
       "      <td>California</td>\n",
       "      <td>Landers</td>\n",
       "      <td>92285.0</td>\n",
       "      <td>34.341737, -116.539416</td>\n",
       "      <td>34.341737</td>\n",
       "      <td>-116.539416</td>\n",
       "      <td>Female</td>\n",
       "      <td>...</td>\n",
       "      <td>Two year</td>\n",
       "      <td>Yes</td>\n",
       "      <td>Bank transfer (automatic)</td>\n",
       "      <td>21.15</td>\n",
       "      <td>1419.4</td>\n",
       "      <td>No</td>\n",
       "      <td>0.0</td>\n",
       "      <td>45.0</td>\n",
       "      <td>5306.0</td>\n",
       "      <td>NaN</td>\n",
       "    </tr>\n",
       "    <tr>\n",
       "      <th>7039</th>\n",
       "      <td>6840-RESVB</td>\n",
       "      <td>1.0</td>\n",
       "      <td>United States</td>\n",
       "      <td>California</td>\n",
       "      <td>Adelanto</td>\n",
       "      <td>92301.0</td>\n",
       "      <td>34.667815, -117.536183</td>\n",
       "      <td>34.667815</td>\n",
       "      <td>-117.536183</td>\n",
       "      <td>Male</td>\n",
       "      <td>...</td>\n",
       "      <td>One year</td>\n",
       "      <td>Yes</td>\n",
       "      <td>Mailed check</td>\n",
       "      <td>84.80</td>\n",
       "      <td>1990.5</td>\n",
       "      <td>No</td>\n",
       "      <td>0.0</td>\n",
       "      <td>59.0</td>\n",
       "      <td>2140.0</td>\n",
       "      <td>NaN</td>\n",
       "    </tr>\n",
       "    <tr>\n",
       "      <th>7040</th>\n",
       "      <td>2234-XADUH</td>\n",
       "      <td>1.0</td>\n",
       "      <td>United States</td>\n",
       "      <td>California</td>\n",
       "      <td>Amboy</td>\n",
       "      <td>92304.0</td>\n",
       "      <td>34.559882, -115.637164</td>\n",
       "      <td>34.559882</td>\n",
       "      <td>-115.637164</td>\n",
       "      <td>Female</td>\n",
       "      <td>...</td>\n",
       "      <td>One year</td>\n",
       "      <td>Yes</td>\n",
       "      <td>Credit card (automatic)</td>\n",
       "      <td>103.20</td>\n",
       "      <td>7362.9</td>\n",
       "      <td>No</td>\n",
       "      <td>0.0</td>\n",
       "      <td>71.0</td>\n",
       "      <td>5560.0</td>\n",
       "      <td>NaN</td>\n",
       "    </tr>\n",
       "    <tr>\n",
       "      <th>7041</th>\n",
       "      <td>4801-JZAZL</td>\n",
       "      <td>1.0</td>\n",
       "      <td>United States</td>\n",
       "      <td>California</td>\n",
       "      <td>Angelus Oaks</td>\n",
       "      <td>92305.0</td>\n",
       "      <td>34.1678, -116.86433</td>\n",
       "      <td>34.167800</td>\n",
       "      <td>-116.864330</td>\n",
       "      <td>Female</td>\n",
       "      <td>...</td>\n",
       "      <td>Month-to-month</td>\n",
       "      <td>Yes</td>\n",
       "      <td>Electronic check</td>\n",
       "      <td>29.60</td>\n",
       "      <td>346.45</td>\n",
       "      <td>No</td>\n",
       "      <td>0.0</td>\n",
       "      <td>59.0</td>\n",
       "      <td>2793.0</td>\n",
       "      <td>NaN</td>\n",
       "    </tr>\n",
       "    <tr>\n",
       "      <th>7042</th>\n",
       "      <td>3186-AJIEK</td>\n",
       "      <td>1.0</td>\n",
       "      <td>United States</td>\n",
       "      <td>California</td>\n",
       "      <td>Apple Valley</td>\n",
       "      <td>92308.0</td>\n",
       "      <td>34.424926, -117.184503</td>\n",
       "      <td>34.424926</td>\n",
       "      <td>-117.184503</td>\n",
       "      <td>Male</td>\n",
       "      <td>...</td>\n",
       "      <td>Two year</td>\n",
       "      <td>Yes</td>\n",
       "      <td>Bank transfer (automatic)</td>\n",
       "      <td>105.65</td>\n",
       "      <td>6844.5</td>\n",
       "      <td>No</td>\n",
       "      <td>0.0</td>\n",
       "      <td>38.0</td>\n",
       "      <td>5097.0</td>\n",
       "      <td>NaN</td>\n",
       "    </tr>\n",
       "  </tbody>\n",
       "</table>\n",
       "<p>7043 rows × 33 columns</p>\n",
       "</div>\n",
       "      <button class=\"colab-df-convert\" onclick=\"convertToInteractive('df-c29260b4-2957-4783-8093-503cc21a6936')\"\n",
       "              title=\"Convert this dataframe to an interactive table.\"\n",
       "              style=\"display:none;\">\n",
       "        \n",
       "  <svg xmlns=\"http://www.w3.org/2000/svg\" height=\"24px\"viewBox=\"0 0 24 24\"\n",
       "       width=\"24px\">\n",
       "    <path d=\"M0 0h24v24H0V0z\" fill=\"none\"/>\n",
       "    <path d=\"M18.56 5.44l.94 2.06.94-2.06 2.06-.94-2.06-.94-.94-2.06-.94 2.06-2.06.94zm-11 1L8.5 8.5l.94-2.06 2.06-.94-2.06-.94L8.5 2.5l-.94 2.06-2.06.94zm10 10l.94 2.06.94-2.06 2.06-.94-2.06-.94-.94-2.06-.94 2.06-2.06.94z\"/><path d=\"M17.41 7.96l-1.37-1.37c-.4-.4-.92-.59-1.43-.59-.52 0-1.04.2-1.43.59L10.3 9.45l-7.72 7.72c-.78.78-.78 2.05 0 2.83L4 21.41c.39.39.9.59 1.41.59.51 0 1.02-.2 1.41-.59l7.78-7.78 2.81-2.81c.8-.78.8-2.07 0-2.86zM5.41 20L4 18.59l7.72-7.72 1.47 1.35L5.41 20z\"/>\n",
       "  </svg>\n",
       "      </button>\n",
       "      \n",
       "  <style>\n",
       "    .colab-df-container {\n",
       "      display:flex;\n",
       "      flex-wrap:wrap;\n",
       "      gap: 12px;\n",
       "    }\n",
       "\n",
       "    .colab-df-convert {\n",
       "      background-color: #E8F0FE;\n",
       "      border: none;\n",
       "      border-radius: 50%;\n",
       "      cursor: pointer;\n",
       "      display: none;\n",
       "      fill: #1967D2;\n",
       "      height: 32px;\n",
       "      padding: 0 0 0 0;\n",
       "      width: 32px;\n",
       "    }\n",
       "\n",
       "    .colab-df-convert:hover {\n",
       "      background-color: #E2EBFA;\n",
       "      box-shadow: 0px 1px 2px rgba(60, 64, 67, 0.3), 0px 1px 3px 1px rgba(60, 64, 67, 0.15);\n",
       "      fill: #174EA6;\n",
       "    }\n",
       "\n",
       "    [theme=dark] .colab-df-convert {\n",
       "      background-color: #3B4455;\n",
       "      fill: #D2E3FC;\n",
       "    }\n",
       "\n",
       "    [theme=dark] .colab-df-convert:hover {\n",
       "      background-color: #434B5C;\n",
       "      box-shadow: 0px 1px 3px 1px rgba(0, 0, 0, 0.15);\n",
       "      filter: drop-shadow(0px 1px 2px rgba(0, 0, 0, 0.3));\n",
       "      fill: #FFFFFF;\n",
       "    }\n",
       "  </style>\n",
       "\n",
       "      <script>\n",
       "        const buttonEl =\n",
       "          document.querySelector('#df-c29260b4-2957-4783-8093-503cc21a6936 button.colab-df-convert');\n",
       "        buttonEl.style.display =\n",
       "          google.colab.kernel.accessAllowed ? 'block' : 'none';\n",
       "\n",
       "        async function convertToInteractive(key) {\n",
       "          const element = document.querySelector('#df-c29260b4-2957-4783-8093-503cc21a6936');\n",
       "          const dataTable =\n",
       "            await google.colab.kernel.invokeFunction('convertToInteractive',\n",
       "                                                     [key], {});\n",
       "          if (!dataTable) return;\n",
       "\n",
       "          const docLinkHtml = 'Like what you see? Visit the ' +\n",
       "            '<a target=\"_blank\" href=https://colab.research.google.com/notebooks/data_table.ipynb>data table notebook</a>'\n",
       "            + ' to learn more about interactive tables.';\n",
       "          element.innerHTML = '';\n",
       "          dataTable['output_type'] = 'display_data';\n",
       "          await google.colab.output.renderOutput(dataTable, element);\n",
       "          const docLink = document.createElement('div');\n",
       "          docLink.innerHTML = docLinkHtml;\n",
       "          element.appendChild(docLink);\n",
       "        }\n",
       "      </script>\n",
       "    </div>\n",
       "  </div>\n",
       "  "
      ],
      "text/plain": [
       "      CustomerID  Count        Country       State          City  Zip Code  \\\n",
       "0     3668-QPYBK    1.0  United States  California   Los Angeles   90003.0   \n",
       "1     9237-HQITU    1.0  United States  California   Los Angeles   90005.0   \n",
       "2     9305-CDSKC    1.0  United States  California   Los Angeles   90006.0   \n",
       "3     7892-POOKP    1.0  United States  California   Los Angeles   90010.0   \n",
       "4     0280-XJGEX    1.0  United States  California   Los Angeles   90015.0   \n",
       "...          ...    ...            ...         ...           ...       ...   \n",
       "7038  2569-WGERO    1.0  United States  California       Landers   92285.0   \n",
       "7039  6840-RESVB    1.0  United States  California      Adelanto   92301.0   \n",
       "7040  2234-XADUH    1.0  United States  California         Amboy   92304.0   \n",
       "7041  4801-JZAZL    1.0  United States  California  Angelus Oaks   92305.0   \n",
       "7042  3186-AJIEK    1.0  United States  California  Apple Valley   92308.0   \n",
       "\n",
       "                    Lat Long   Latitude   Longitude  Gender  ...  \\\n",
       "0     33.964131, -118.272783  33.964131 -118.272783    Male  ...   \n",
       "1      34.059281, -118.30742  34.059281 -118.307420  Female  ...   \n",
       "2     34.048013, -118.293953  34.048013 -118.293953  Female  ...   \n",
       "3     34.062125, -118.315709  34.062125 -118.315709  Female  ...   \n",
       "4     34.039224, -118.266293  34.039224 -118.266293    Male  ...   \n",
       "...                      ...        ...         ...     ...  ...   \n",
       "7038  34.341737, -116.539416  34.341737 -116.539416  Female  ...   \n",
       "7039  34.667815, -117.536183  34.667815 -117.536183    Male  ...   \n",
       "7040  34.559882, -115.637164  34.559882 -115.637164  Female  ...   \n",
       "7041     34.1678, -116.86433  34.167800 -116.864330  Female  ...   \n",
       "7042  34.424926, -117.184503  34.424926 -117.184503    Male  ...   \n",
       "\n",
       "            Contract Paperless Billing             Payment Method  \\\n",
       "0     Month-to-month               Yes               Mailed check   \n",
       "1     Month-to-month               Yes           Electronic check   \n",
       "2     Month-to-month               Yes           Electronic check   \n",
       "3     Month-to-month               Yes           Electronic check   \n",
       "4     Month-to-month               Yes  Bank transfer (automatic)   \n",
       "...              ...               ...                        ...   \n",
       "7038        Two year               Yes  Bank transfer (automatic)   \n",
       "7039        One year               Yes               Mailed check   \n",
       "7040        One year               Yes    Credit card (automatic)   \n",
       "7041  Month-to-month               Yes           Electronic check   \n",
       "7042        Two year               Yes  Bank transfer (automatic)   \n",
       "\n",
       "      Monthly Charges Total Charges Churn Label Churn Value Churn Score  \\\n",
       "0               53.85        108.15         Yes         1.0        86.0   \n",
       "1               70.70        151.65         Yes         1.0        67.0   \n",
       "2               99.65         820.5         Yes         1.0        86.0   \n",
       "3              104.80       3046.05         Yes         1.0        84.0   \n",
       "4              103.70        5036.3         Yes         1.0        89.0   \n",
       "...               ...           ...         ...         ...         ...   \n",
       "7038            21.15        1419.4          No         0.0        45.0   \n",
       "7039            84.80        1990.5          No         0.0        59.0   \n",
       "7040           103.20        7362.9          No         0.0        71.0   \n",
       "7041            29.60        346.45          No         0.0        59.0   \n",
       "7042           105.65        6844.5          No         0.0        38.0   \n",
       "\n",
       "        CLTV                   Churn Reason  \n",
       "0     3239.0   Competitor made better offer  \n",
       "1     2701.0                          Moved  \n",
       "2     5372.0                          Moved  \n",
       "3     5003.0                          Moved  \n",
       "4     5340.0  Competitor had better devices  \n",
       "...      ...                            ...  \n",
       "7038  5306.0                            NaN  \n",
       "7039  2140.0                            NaN  \n",
       "7040  5560.0                            NaN  \n",
       "7041  2793.0                            NaN  \n",
       "7042  5097.0                            NaN  \n",
       "\n",
       "[7043 rows x 33 columns]"
      ]
     },
     "execution_count": 2,
     "metadata": {},
     "output_type": "execute_result"
    }
   ],
   "source": [
    "df = pd.read_excel(\"/content/Telco_customer_churn.xlsx\")\n",
    "df"
   ]
  },
  {
   "cell_type": "markdown",
   "metadata": {
    "id": "-ftN4C5mohKJ"
   },
   "source": [
    "### **Data types-Statistically**\n",
    "\n",
    "Data can be either **qualitative** or **quantitative**. \n",
    "\n",
    "1. Qualitative data is further divided into ***Nominal scale*** and ***Ordinal scale***.\n",
    "2. Quantitative data can be measured on a ***continuous scale*** or ***discrete scale***.\n",
    "\n",
    "In our data set, there are 26 Nominal variables and 7 continuous variables. \n",
    "\n",
    "**Qualitative Variables - Nominal Scale of measurement**\n",
    "\n",
    "1. Count (It is only used as a label to make a count of the number of customers, doesn't have any numerical meaning. Statistical operations performed on it doesn't provide significant interpretation)\n",
    "2. Customer id (No numerical meaning, It's just label)\n",
    "3. Country (Names without an order falls under Nominal scale)\n",
    "4. State (Names without an order falls under Nominal scale)\n",
    "5. City (Names without an order falls under Nominal scale)\n",
    "6. Zip Code (Though it is a number, there is no numerical meaning, It's just label)\n",
    "7. Lat long  (It's notation, no operations can be done)\n",
    "8. Gender (They use categories namely Male and Female)\n",
    "9. Senior Citizen (They use categories like yes and No)\n",
    "10. Partner (They use categories like yes and No)\n",
    "11. Dependents (They use categories like yes and No)\n",
    "12. Phone service (They use categories like yes and No)\n",
    "13. Multiple Lines (They use categories like yes, No and No phone service)\n",
    "14. Internet Service (They use categories namely No, DSL, Fiber Optic, Cable.)\n",
    "15. Online Security (They use categories like yes, No and No internet service)\n",
    "16. Online Backup (They use categories like yes, No and No internet service)\n",
    "17. Device Protection (They use categories like yes, No and No internet service)\n",
    "18. Tech Support (They use categories like yes, No and No internet service)\n",
    "19. Streaming TV (They use categories like yes, No and No internet service)\n",
    "20. Streaming Movies (They use categories like yes, No and No internet service)\n",
    "21. Contract (They use categories like Month-to-Month, One Year, Two Year) \n",
    "22. Paperless Billing (They use categories such as Yes and No)\n",
    "23. Payment method (They use categories namely Bank Withdrawal, Credit Card, Mailed Check). No method is superior to other. Thus, not ordinal scale.\n",
    "24. Churn label (They use categories like Yes and No)\n",
    "25. Churn value (They use categories such as 0 and 1)\n",
    "26. Churn reason (They provide a subjective reason, which is not numerical)\n",
    "\n",
    "\n",
    "**Quantitative variables - Continuous scale**\n",
    "\n",
    "\n",
    "1. Latitude (It is measurable and can take intermediate values within a range).\n",
    "2. Longitude (It is measurable and can take intermediate values within a range).\n",
    "3. Tenure Months (It can also take intermediate values within a range. Eg. It can also be 3.5 months).\n",
    "4. Monthly Charge (It can take intermediate values).\n",
    "5. Total charges (It can take decimal values also).\n",
    "6. Churn score (It can take intermediate values within a range)\n",
    "7. CLTV (It is the net profit a company makes from one customer over the mentioned period, It can take decimals)\n",
    "\n"
   ]
  },
  {
   "cell_type": "markdown",
   "metadata": {
    "id": "P2PjLqDE49My"
   },
   "source": [
    "###**Data types- Python**\n",
    "\n",
    "Using df.info( ) function , we can get all column names along with their data type and number of non-null values present. It also specifies about the number of rows. Here, there are 7043 rows. \n"
   ]
  },
  {
   "cell_type": "code",
   "execution_count": 3,
   "metadata": {
    "colab": {
     "base_uri": "https://localhost:8080/"
    },
    "id": "2hn5cl6_6vyD",
    "outputId": "0e51c7e9-9500-458b-82d9-550ed5141bf5"
   },
   "outputs": [
    {
     "name": "stdout",
     "output_type": "stream",
     "text": [
      "<class 'pandas.core.frame.DataFrame'>\n",
      "RangeIndex: 7043 entries, 0 to 7042\n",
      "Data columns (total 33 columns):\n",
      " #   Column             Non-Null Count  Dtype  \n",
      "---  ------             --------------  -----  \n",
      " 0   CustomerID         7043 non-null   object \n",
      " 1   Count              7043 non-null   float64\n",
      " 2   Country            7043 non-null   object \n",
      " 3   State              7043 non-null   object \n",
      " 4   City               7043 non-null   object \n",
      " 5   Zip Code           7043 non-null   float64\n",
      " 6   Lat Long           7043 non-null   object \n",
      " 7   Latitude           7043 non-null   float64\n",
      " 8   Longitude          7043 non-null   float64\n",
      " 9   Gender             7043 non-null   object \n",
      " 10  Senior Citizen     7043 non-null   object \n",
      " 11  Partner            7043 non-null   object \n",
      " 12  Dependents         7043 non-null   object \n",
      " 13  Tenure Months      7043 non-null   float64\n",
      " 14  Phone Service      7043 non-null   object \n",
      " 15  Multiple Lines     7043 non-null   object \n",
      " 16  Internet Service   7043 non-null   object \n",
      " 17  Online Security    7043 non-null   object \n",
      " 18  Online Backup      7043 non-null   object \n",
      " 19  Device Protection  7043 non-null   object \n",
      " 20  Tech Support       7043 non-null   object \n",
      " 21  Streaming TV       7043 non-null   object \n",
      " 22  Streaming Movies   7043 non-null   object \n",
      " 23  Contract           7043 non-null   object \n",
      " 24  Paperless Billing  7043 non-null   object \n",
      " 25  Payment Method     7043 non-null   object \n",
      " 26  Monthly Charges    7043 non-null   float64\n",
      " 27  Total Charges      7043 non-null   object \n",
      " 28  Churn Label        7043 non-null   object \n",
      " 29  Churn Value        7043 non-null   float64\n",
      " 30  Churn Score        7043 non-null   float64\n",
      " 31  CLTV               7043 non-null   float64\n",
      " 32  Churn Reason       1869 non-null   object \n",
      "dtypes: float64(9), object(24)\n",
      "memory usage: 1.8+ MB\n"
     ]
    }
   ],
   "source": [
    "df.info()"
   ]
  },
  {
   "cell_type": "markdown",
   "metadata": {
    "id": "dw4BFoF70TJ4"
   },
   "source": [
    "Python interprets all non-numerical data as **\"Object\"**. \n",
    "Among the numerical data, it defines them separately as either **\"integer\"** or **\"float\"** based on the decimal count."
   ]
  },
  {
   "cell_type": "markdown",
   "metadata": {
    "id": "GJioRlF9oYiB"
   },
   "source": [
    "**Not all data types are rightly mentioned in Python** \n",
    "\n",
    "1. Python read **Count** as a float, while it is an object. Count do not have any mathematical meaning. It is just used as label.\n",
    "\n",
    "2. Python read **Zip code** as a float, while it is an object. Zip codes do not have any mathematical meaning. It is just used as label.\n",
    "\n",
    "3. Python read **Total Charges** as an object, while it is should be float. They have mathematical meaning and are measurable that takes all intermediate values within a given range. \n",
    "\n",
    "4. Python read **Churn value** as float , while it is an object. Churn value do not have any mathematical meaning even though it takes 0 and 1. It is just used as label.\n"
   ]
  },
  {
   "cell_type": "markdown",
   "metadata": {
    "id": "uz1kavDFlCOr"
   },
   "source": [
    "## **Q2: Please apply appropriate statistical measures using python based on data types.**"
   ]
  },
  {
   "cell_type": "markdown",
   "metadata": {
    "id": "kahS1wYl-Qj5"
   },
   "source": [
    "First, we need to make corrections in the data types for variables that were given wrong datatype by python."
   ]
  },
  {
   "cell_type": "code",
   "execution_count": 4,
   "metadata": {
    "id": "aHjEsXcs-hPY"
   },
   "outputs": [],
   "source": [
    "# To convert variables from float to object. \n",
    "\n",
    "for i in [\"Count\",\"Zip Code\",\"Churn Value\"]:\n",
    "  df[i]=df[i].astype(object)\n"
   ]
  },
  {
   "cell_type": "code",
   "execution_count": 5,
   "metadata": {
    "id": "8PnZ3LcI3peA"
   },
   "outputs": [],
   "source": [
    "# To convert variables from object to float. \n",
    "\n",
    "df[\"Total Charges\"] = pd.to_numeric(df[\"Total Charges\"],errors='coerce')\n"
   ]
  },
  {
   "cell_type": "code",
   "execution_count": 6,
   "metadata": {
    "colab": {
     "base_uri": "https://localhost:8080/"
    },
    "id": "jutxhy0HBBFB",
    "outputId": "76e258e5-37f5-41bb-fb2c-5bf2fb4174a5"
   },
   "outputs": [
    {
     "name": "stdout",
     "output_type": "stream",
     "text": [
      "<class 'pandas.core.frame.DataFrame'>\n",
      "RangeIndex: 7043 entries, 0 to 7042\n",
      "Data columns (total 33 columns):\n",
      " #   Column             Non-Null Count  Dtype  \n",
      "---  ------             --------------  -----  \n",
      " 0   CustomerID         7043 non-null   object \n",
      " 1   Count              7043 non-null   object \n",
      " 2   Country            7043 non-null   object \n",
      " 3   State              7043 non-null   object \n",
      " 4   City               7043 non-null   object \n",
      " 5   Zip Code           7043 non-null   object \n",
      " 6   Lat Long           7043 non-null   object \n",
      " 7   Latitude           7043 non-null   float64\n",
      " 8   Longitude          7043 non-null   float64\n",
      " 9   Gender             7043 non-null   object \n",
      " 10  Senior Citizen     7043 non-null   object \n",
      " 11  Partner            7043 non-null   object \n",
      " 12  Dependents         7043 non-null   object \n",
      " 13  Tenure Months      7043 non-null   float64\n",
      " 14  Phone Service      7043 non-null   object \n",
      " 15  Multiple Lines     7043 non-null   object \n",
      " 16  Internet Service   7043 non-null   object \n",
      " 17  Online Security    7043 non-null   object \n",
      " 18  Online Backup      7043 non-null   object \n",
      " 19  Device Protection  7043 non-null   object \n",
      " 20  Tech Support       7043 non-null   object \n",
      " 21  Streaming TV       7043 non-null   object \n",
      " 22  Streaming Movies   7043 non-null   object \n",
      " 23  Contract           7043 non-null   object \n",
      " 24  Paperless Billing  7043 non-null   object \n",
      " 25  Payment Method     7043 non-null   object \n",
      " 26  Monthly Charges    7043 non-null   float64\n",
      " 27  Total Charges      7032 non-null   float64\n",
      " 28  Churn Label        7043 non-null   object \n",
      " 29  Churn Value        7043 non-null   object \n",
      " 30  Churn Score        7043 non-null   float64\n",
      " 31  CLTV               7043 non-null   float64\n",
      " 32  Churn Reason       1869 non-null   object \n",
      "dtypes: float64(7), object(26)\n",
      "memory usage: 1.8+ MB\n"
     ]
    }
   ],
   "source": [
    "# let us now check the datatypes of variables after changing. \n",
    "\n",
    "df.info()"
   ]
  },
  {
   "cell_type": "markdown",
   "metadata": {
    "id": "10bOiE1QBNxF"
   },
   "source": [
    "Perfect! They are changed. \n",
    "Now we can apply \"describe function\" to get the statistical measures of all columns with continuous data."
   ]
  },
  {
   "cell_type": "code",
   "execution_count": 7,
   "metadata": {
    "colab": {
     "base_uri": "https://localhost:8080/",
     "height": 300
    },
    "id": "N5JJ3oVtlYfp",
    "outputId": "d5169638-76b4-47a4-c894-417a9951511f"
   },
   "outputs": [
    {
     "data": {
      "text/html": [
       "\n",
       "  <div id=\"df-b76e6212-7b95-4d54-b86e-3ae3b98b6e52\">\n",
       "    <div class=\"colab-df-container\">\n",
       "      <div>\n",
       "<style scoped>\n",
       "    .dataframe tbody tr th:only-of-type {\n",
       "        vertical-align: middle;\n",
       "    }\n",
       "\n",
       "    .dataframe tbody tr th {\n",
       "        vertical-align: top;\n",
       "    }\n",
       "\n",
       "    .dataframe thead th {\n",
       "        text-align: right;\n",
       "    }\n",
       "</style>\n",
       "<table border=\"1\" class=\"dataframe\">\n",
       "  <thead>\n",
       "    <tr style=\"text-align: right;\">\n",
       "      <th></th>\n",
       "      <th>Latitude</th>\n",
       "      <th>Longitude</th>\n",
       "      <th>Tenure Months</th>\n",
       "      <th>Monthly Charges</th>\n",
       "      <th>Total Charges</th>\n",
       "      <th>Churn Score</th>\n",
       "      <th>CLTV</th>\n",
       "    </tr>\n",
       "  </thead>\n",
       "  <tbody>\n",
       "    <tr>\n",
       "      <th>count</th>\n",
       "      <td>7043.000000</td>\n",
       "      <td>7043.000000</td>\n",
       "      <td>7043.000000</td>\n",
       "      <td>7043.000000</td>\n",
       "      <td>7032.000000</td>\n",
       "      <td>7043.000000</td>\n",
       "      <td>7043.000000</td>\n",
       "    </tr>\n",
       "    <tr>\n",
       "      <th>mean</th>\n",
       "      <td>36.282441</td>\n",
       "      <td>-119.798880</td>\n",
       "      <td>32.371149</td>\n",
       "      <td>64.761692</td>\n",
       "      <td>2283.300441</td>\n",
       "      <td>58.699418</td>\n",
       "      <td>4400.295755</td>\n",
       "    </tr>\n",
       "    <tr>\n",
       "      <th>std</th>\n",
       "      <td>2.455723</td>\n",
       "      <td>2.157889</td>\n",
       "      <td>24.559481</td>\n",
       "      <td>30.090047</td>\n",
       "      <td>2266.771362</td>\n",
       "      <td>21.525131</td>\n",
       "      <td>1183.057152</td>\n",
       "    </tr>\n",
       "    <tr>\n",
       "      <th>min</th>\n",
       "      <td>32.555828</td>\n",
       "      <td>-124.301372</td>\n",
       "      <td>0.000000</td>\n",
       "      <td>18.250000</td>\n",
       "      <td>18.800000</td>\n",
       "      <td>5.000000</td>\n",
       "      <td>2003.000000</td>\n",
       "    </tr>\n",
       "    <tr>\n",
       "      <th>25%</th>\n",
       "      <td>34.030915</td>\n",
       "      <td>-121.815412</td>\n",
       "      <td>9.000000</td>\n",
       "      <td>35.500000</td>\n",
       "      <td>401.450000</td>\n",
       "      <td>40.000000</td>\n",
       "      <td>3469.000000</td>\n",
       "    </tr>\n",
       "    <tr>\n",
       "      <th>50%</th>\n",
       "      <td>36.391777</td>\n",
       "      <td>-119.730885</td>\n",
       "      <td>29.000000</td>\n",
       "      <td>70.350000</td>\n",
       "      <td>1397.475000</td>\n",
       "      <td>61.000000</td>\n",
       "      <td>4527.000000</td>\n",
       "    </tr>\n",
       "    <tr>\n",
       "      <th>75%</th>\n",
       "      <td>38.224869</td>\n",
       "      <td>-118.043237</td>\n",
       "      <td>55.000000</td>\n",
       "      <td>89.850000</td>\n",
       "      <td>3794.737500</td>\n",
       "      <td>75.000000</td>\n",
       "      <td>5380.500000</td>\n",
       "    </tr>\n",
       "    <tr>\n",
       "      <th>max</th>\n",
       "      <td>41.962127</td>\n",
       "      <td>-114.192901</td>\n",
       "      <td>72.000000</td>\n",
       "      <td>118.750000</td>\n",
       "      <td>8684.800000</td>\n",
       "      <td>100.000000</td>\n",
       "      <td>6500.000000</td>\n",
       "    </tr>\n",
       "  </tbody>\n",
       "</table>\n",
       "</div>\n",
       "      <button class=\"colab-df-convert\" onclick=\"convertToInteractive('df-b76e6212-7b95-4d54-b86e-3ae3b98b6e52')\"\n",
       "              title=\"Convert this dataframe to an interactive table.\"\n",
       "              style=\"display:none;\">\n",
       "        \n",
       "  <svg xmlns=\"http://www.w3.org/2000/svg\" height=\"24px\"viewBox=\"0 0 24 24\"\n",
       "       width=\"24px\">\n",
       "    <path d=\"M0 0h24v24H0V0z\" fill=\"none\"/>\n",
       "    <path d=\"M18.56 5.44l.94 2.06.94-2.06 2.06-.94-2.06-.94-.94-2.06-.94 2.06-2.06.94zm-11 1L8.5 8.5l.94-2.06 2.06-.94-2.06-.94L8.5 2.5l-.94 2.06-2.06.94zm10 10l.94 2.06.94-2.06 2.06-.94-2.06-.94-.94-2.06-.94 2.06-2.06.94z\"/><path d=\"M17.41 7.96l-1.37-1.37c-.4-.4-.92-.59-1.43-.59-.52 0-1.04.2-1.43.59L10.3 9.45l-7.72 7.72c-.78.78-.78 2.05 0 2.83L4 21.41c.39.39.9.59 1.41.59.51 0 1.02-.2 1.41-.59l7.78-7.78 2.81-2.81c.8-.78.8-2.07 0-2.86zM5.41 20L4 18.59l7.72-7.72 1.47 1.35L5.41 20z\"/>\n",
       "  </svg>\n",
       "      </button>\n",
       "      \n",
       "  <style>\n",
       "    .colab-df-container {\n",
       "      display:flex;\n",
       "      flex-wrap:wrap;\n",
       "      gap: 12px;\n",
       "    }\n",
       "\n",
       "    .colab-df-convert {\n",
       "      background-color: #E8F0FE;\n",
       "      border: none;\n",
       "      border-radius: 50%;\n",
       "      cursor: pointer;\n",
       "      display: none;\n",
       "      fill: #1967D2;\n",
       "      height: 32px;\n",
       "      padding: 0 0 0 0;\n",
       "      width: 32px;\n",
       "    }\n",
       "\n",
       "    .colab-df-convert:hover {\n",
       "      background-color: #E2EBFA;\n",
       "      box-shadow: 0px 1px 2px rgba(60, 64, 67, 0.3), 0px 1px 3px 1px rgba(60, 64, 67, 0.15);\n",
       "      fill: #174EA6;\n",
       "    }\n",
       "\n",
       "    [theme=dark] .colab-df-convert {\n",
       "      background-color: #3B4455;\n",
       "      fill: #D2E3FC;\n",
       "    }\n",
       "\n",
       "    [theme=dark] .colab-df-convert:hover {\n",
       "      background-color: #434B5C;\n",
       "      box-shadow: 0px 1px 3px 1px rgba(0, 0, 0, 0.15);\n",
       "      filter: drop-shadow(0px 1px 2px rgba(0, 0, 0, 0.3));\n",
       "      fill: #FFFFFF;\n",
       "    }\n",
       "  </style>\n",
       "\n",
       "      <script>\n",
       "        const buttonEl =\n",
       "          document.querySelector('#df-b76e6212-7b95-4d54-b86e-3ae3b98b6e52 button.colab-df-convert');\n",
       "        buttonEl.style.display =\n",
       "          google.colab.kernel.accessAllowed ? 'block' : 'none';\n",
       "\n",
       "        async function convertToInteractive(key) {\n",
       "          const element = document.querySelector('#df-b76e6212-7b95-4d54-b86e-3ae3b98b6e52');\n",
       "          const dataTable =\n",
       "            await google.colab.kernel.invokeFunction('convertToInteractive',\n",
       "                                                     [key], {});\n",
       "          if (!dataTable) return;\n",
       "\n",
       "          const docLinkHtml = 'Like what you see? Visit the ' +\n",
       "            '<a target=\"_blank\" href=https://colab.research.google.com/notebooks/data_table.ipynb>data table notebook</a>'\n",
       "            + ' to learn more about interactive tables.';\n",
       "          element.innerHTML = '';\n",
       "          dataTable['output_type'] = 'display_data';\n",
       "          await google.colab.output.renderOutput(dataTable, element);\n",
       "          const docLink = document.createElement('div');\n",
       "          docLink.innerHTML = docLinkHtml;\n",
       "          element.appendChild(docLink);\n",
       "        }\n",
       "      </script>\n",
       "    </div>\n",
       "  </div>\n",
       "  "
      ],
      "text/plain": [
       "          Latitude    Longitude  Tenure Months  Monthly Charges  \\\n",
       "count  7043.000000  7043.000000    7043.000000      7043.000000   \n",
       "mean     36.282441  -119.798880      32.371149        64.761692   \n",
       "std       2.455723     2.157889      24.559481        30.090047   \n",
       "min      32.555828  -124.301372       0.000000        18.250000   \n",
       "25%      34.030915  -121.815412       9.000000        35.500000   \n",
       "50%      36.391777  -119.730885      29.000000        70.350000   \n",
       "75%      38.224869  -118.043237      55.000000        89.850000   \n",
       "max      41.962127  -114.192901      72.000000       118.750000   \n",
       "\n",
       "       Total Charges  Churn Score         CLTV  \n",
       "count    7032.000000  7043.000000  7043.000000  \n",
       "mean     2283.300441    58.699418  4400.295755  \n",
       "std      2266.771362    21.525131  1183.057152  \n",
       "min        18.800000     5.000000  2003.000000  \n",
       "25%       401.450000    40.000000  3469.000000  \n",
       "50%      1397.475000    61.000000  4527.000000  \n",
       "75%      3794.737500    75.000000  5380.500000  \n",
       "max      8684.800000   100.000000  6500.000000  "
      ]
     },
     "execution_count": 7,
     "metadata": {},
     "output_type": "execute_result"
    }
   ],
   "source": [
    "df.describe()"
   ]
  },
  {
   "cell_type": "markdown",
   "metadata": {
    "id": "g2VZIBZCFuI5"
   },
   "source": [
    "To know appropriate statistical measures, we need to know the distribution of variables.\n",
    "\n",
    "For this, we are writing below code to find the coefficient of skewness for all continuous variables."
   ]
  },
  {
   "cell_type": "code",
   "execution_count": 8,
   "metadata": {
    "colab": {
     "base_uri": "https://localhost:8080/"
    },
    "id": "kL5i0ah-CxcI",
    "outputId": "1e60b393-c6e4-4c57-e48b-40e709000b63"
   },
   "outputs": [
    {
     "name": "stdout",
     "output_type": "stream",
     "text": [
      "Latitude is Positively skewed.\n",
      " It has coefficient of skewness=  0.3\n",
      "\n",
      "Longitude is Negatively skewed.\n",
      " It has coefficient of skewness = -0.04\n",
      "\n",
      "Tenure Months is Positively skewed.\n",
      " It has coefficient of skewness=  0.24\n",
      "\n",
      "Monthly Charges is Negatively skewed.\n",
      " It has coefficient of skewness = -0.22\n",
      "\n",
      "Total Charges is Positively skewed.\n",
      " It has coefficient of skewness=  0.96\n",
      "\n",
      "Churn Score is Negatively skewed.\n",
      " It has coefficient of skewness = -0.09\n",
      "\n",
      "CLTV is Negatively skewed.\n",
      " It has coefficient of skewness = -0.31\n",
      "\n"
     ]
    }
   ],
   "source": [
    "# Firstly, we are storing the required column names in a list and assigning it to a variable called \"skewness\".\n",
    "skewness = [\"Latitude\",\"Longitude\",\"Tenure Months\",\"Monthly Charges\",\"Total Charges\",\"Churn Score\",\"CLTV\"]\n",
    "\n",
    "# Without running the same code repeatedly, we are making use of a \"For Loop\" with \"if, elif and else\" conditional statements.\n",
    "# round function is used to round off the skewness value to 2 decimal places.\n",
    "\n",
    "for i in skewness:\n",
    "   if df[i].skew() > 0  :\n",
    "      print(f\"{i} is Positively skewed.\\n It has coefficient of skewness=  {round(df[i].skew(),2)}\\n\")\n",
    "   elif df[i].skew() < 0:\n",
    "      print(f\"{i} is Negatively skewed.\\n It has coefficient of skewness = {round(df[i].skew(),2)}\\n\")\n",
    "   else :\n",
    "      print(f\"{i} is Symmetrical.\\n It has coefficient of skewness = {round(df[i].skew(),2)}\\n\")\n"
   ]
  },
  {
   "cell_type": "markdown",
   "metadata": {
    "id": "UERk6qtc8Pc3"
   },
   "source": [
    "**Appropriate Statistical measures:**\n",
    "\n",
    "For a **Symmetrical data**, Mean is the appropriate measure of central tendency and standard deviation is considered as the appropriate measure of dispersion.\n",
    "\n",
    "\n",
    "Whereas, for a **Skewed data**, Median is the appropriate measure of central tendency and Inter quartile range(IQR) is considered as the appropriate measure of dispersion.\n",
    "\n",
    "\n",
    "\n",
    "1. Latitude:\n",
    "\n",
    "*   Median = 36.4\n",
    "*   IQR = Q3 - Q1 = 4.2\n",
    "\n",
    "2. Longitude\n",
    "\n",
    "*   Median = -119.7\n",
    "*   IQR = Q3 - Q1 = 3.77\n",
    "\n",
    "3. Tenure months\n",
    "\n",
    "*   Median = 29\n",
    "*   IQR = Q3 - Q1 = 46\n",
    "\n",
    "4. Monthly charges\n",
    "\n",
    "*   Median = 70.35\n",
    "*   IQR = Q3 - Q1 = 54.35\n",
    "\n",
    "5. Total charges\n",
    "\n",
    "*   Median = 1397.47\n",
    "*   IQR = Q3 - Q1 = 3393.28\n",
    "\n",
    "6. Churn score\n",
    "\n",
    "*   Median = 61\n",
    "*   IQR = Q3 - Q1 = 35\n",
    "\n",
    "7. CLTV \n",
    "\n",
    "*   Median = 4527\n",
    "*   IQR = Q3 - Q1 = 1911.5"
   ]
  },
  {
   "cell_type": "markdown",
   "metadata": {
    "id": "r0V_HwyzlCWB"
   },
   "source": [
    "## **Q3: What is the percentage of females and senior citizens in this data set? Please create appropriate plots and explain the plots.**"
   ]
  },
  {
   "cell_type": "markdown",
   "metadata": {
    "id": "yjlNlce-lzYh"
   },
   "source": [
    "**1. Percentage of Females:**"
   ]
  },
  {
   "cell_type": "code",
   "execution_count": 9,
   "metadata": {
    "colab": {
     "base_uri": "https://localhost:8080/"
    },
    "id": "RbzAgpxclY-l",
    "outputId": "2813f229-3ed5-4a08-f1cf-66c88cd98ecd"
   },
   "outputs": [
    {
     "name": "stdout",
     "output_type": "stream",
     "text": [
      "Percentage of male citizens is 50.48 % \n",
      "\n",
      "Percentage of female citizens is 49.52 % \n",
      "\n"
     ]
    }
   ],
   "source": [
    "total_number_of_citizens =df[\"Gender\"].count()  \n",
    " \n",
    "# to get percentage of males\n",
    "\n",
    "count_male =0\n",
    "for i in df[\"Gender\"]:\n",
    "   if i ==\"Male\":\n",
    "      count_male = count_male +1 \n",
    "\n",
    "percent_male = round((count_male/total_number_of_citizens)*100,2)\n",
    "print(f\"Percentage of male citizens is {round((count_male/total_number_of_citizens)*100,2)} % \\n\")\n",
    "\n",
    "# to get percentage of females\n",
    "\n",
    "count_females = total_number_of_citizens - count_male\n",
    "percent_females = round((count_females/total_number_of_citizens)*100,2)\n",
    "print(f\"Percentage of female citizens is {round((count_females/total_number_of_citizens)*100,2)} % \\n\")\n"
   ]
  },
  {
   "cell_type": "markdown",
   "metadata": {
    "id": "e47M5CYKmLRZ"
   },
   "source": [
    "**Through Graph**\n",
    "\n",
    "Below is a Bar chart depicting the distribution of Gender in the dataset. Number of Males is higher than the number of females. This is clearly visible through chart."
   ]
  },
  {
   "cell_type": "code",
   "execution_count": 10,
   "metadata": {
    "colab": {
     "base_uri": "https://localhost:8080/",
     "height": 353
    },
    "id": "e22Qw2HcmEM4",
    "outputId": "ab3ba0ea-b8a4-4a7d-f175-bf498a7c3474"
   },
   "outputs": [
    {
     "data": {
      "image/png": "[encoded data removed]",
      "text/plain": [
       "<Figure size 360x360 with 1 Axes>"
      ]
     },
     "metadata": {
      "needs_background": "light"
     },
     "output_type": "display_data"
    }
   ],
   "source": [
    "x = [\"Male\",\"Female\"]\n",
    "y = [percent_male,percent_females]\n",
    "\n",
    "plt.figure(figsize=(5,5))\n",
    "plt.title(\"Bar plot - Distribution of Gender \",fontsize=13)\n",
    "color='pink'\n",
    "plt.bar(x,y,color=color)\n",
    "plt.xlabel(\"Gender\",fontsize=13)\n",
    "plt.ylabel(\"Percentage\",fontsize=13)\n",
    "plt.ylim(0,60)\n",
    "plt.show()"
   ]
  },
  {
   "cell_type": "markdown",
   "metadata": {
    "id": "fZ7BKZw8l5Ln"
   },
   "source": [
    "**2. Percentage of Senior citizens**."
   ]
  },
  {
   "cell_type": "code",
   "execution_count": 11,
   "metadata": {
    "colab": {
     "base_uri": "https://localhost:8080/"
    },
    "id": "HCyly5UWEbEC",
    "outputId": "8bfa6628-ba28-478e-fc6f-a50e9cc906d1"
   },
   "outputs": [
    {
     "name": "stdout",
     "output_type": "stream",
     "text": [
      "Percentage of senior citizens is 16.21 % \n",
      "\n",
      "Percentage of other citizens is 83.79 % \n",
      "\n"
     ]
    }
   ],
   "source": [
    "total_number_of_citizens =df[\"Senior Citizen\"].count()\n",
    "\n",
    "# to get percentage of senior citizens\n",
    "\n",
    "count_senior =0\n",
    "for i in df[\"Senior Citizen\"]:\n",
    "   if i ==\"Yes\":\n",
    "      count_senior = count_senior +1 \n",
    "\n",
    "percent_senior = round((count_senior/total_number_of_citizens)*100,2)\n",
    "print(f\"Percentage of senior citizens is {round((count_senior/total_number_of_citizens)*100,2)} % \\n\")\n",
    "\n",
    "# to get percentage of other citizens\n",
    "\n",
    "count_others = total_number_of_citizens - count_senior\n",
    "percent_others = round((count_others/total_number_of_citizens)*100,2)\n",
    "print(f\"Percentage of other citizens is {round((count_others/total_number_of_citizens)*100,2)} % \\n\")\n"
   ]
  },
  {
   "cell_type": "markdown",
   "metadata": {
    "id": "sGz_l4DHmUXQ"
   },
   "source": [
    "**Through graph**\n",
    "\n",
    "Below is the Bar chart showing the distribution of senior citizens (aged above 65) in the dataset. We can say that there are less than 20%  senior citizens here. The huge difference is seen effortlessly."
   ]
  },
  {
   "cell_type": "code",
   "execution_count": 12,
   "metadata": {
    "colab": {
     "base_uri": "https://localhost:8080/",
     "height": 353
    },
    "id": "-mkgRBAumT-R",
    "outputId": "c41508b4-33d1-489d-a60d-46b1d7b1290e"
   },
   "outputs": [
    {
     "data": {
      "image/png": "[encoded data removed]",
      "text/plain": [
       "<Figure size 360x360 with 1 Axes>"
      ]
     },
     "metadata": {
      "needs_background": "light"
     },
     "output_type": "display_data"
    }
   ],
   "source": [
    "x = [\"Yes\",\"No\"]\n",
    "y = [percent_senior,percent_others]\n",
    "\n",
    "plt.figure(figsize=(5,5))\n",
    "plt.title(\"Bar plot - Distribution of Senior Citizens \",fontsize=13)\n",
    "color='Orange'\n",
    "plt.bar(x,y,color=color)\n",
    "plt.xlabel(\"Senior Citizen\",fontsize=13)\n",
    "plt.ylabel(\"Percentage\",fontsize=13)\n",
    "plt.show()"
   ]
  },
  {
   "cell_type": "markdown",
   "metadata": {
    "id": "Ogxnj6AflCc4"
   },
   "source": [
    "## **Q4: Please create an appropriate plot to examine the distribution of the tenure month column and explain the distribution. Based on distribution, perform appropriate statistical measures. Please also explain if the variable is symmetric or skewed. Please calculate it. Explain everything as asked.**"
   ]
  },
  {
   "cell_type": "markdown",
   "metadata": {
    "id": "nOs64JcpAQ7H"
   },
   "source": [
    "To examine the distribution of tenure month variable, we are making a **Histogram** with 8 bins and equal class interval 10."
   ]
  },
  {
   "cell_type": "code",
   "execution_count": 13,
   "metadata": {
    "colab": {
     "base_uri": "https://localhost:8080/",
     "height": 422
    },
    "id": "E2lp8JDnlg-J",
    "outputId": "0514a7b9-0eb8-4218-f135-65aa1d748e06"
   },
   "outputs": [
    {
     "data": {
      "image/png": "[encoded data removed]",
      "text/plain": [
       "<Figure size 432x432 with 1 Axes>"
      ]
     },
     "metadata": {
      "needs_background": "light"
     },
     "output_type": "display_data"
    }
   ],
   "source": [
    "plt.figure(figsize=(6,6))\n",
    "plt.title(\"Histogram \\n Distribution of Tenure Month \",fontsize=13)\n",
    "color='Red'\n",
    "bin_1 = [0,10,20,30,40,50,60,70,80]\n",
    "plt.hist(x = df[\"Tenure Months\"],color=color,bins=bin_1,rwidth=1)\n",
    "plt.xlabel(\"Tenure month\",fontsize=13)\n",
    "plt.ylabel(\"Frequency\",fontsize=13)\n",
    "plt.show()"
   ]
  },
  {
   "cell_type": "markdown",
   "metadata": {
    "id": "nvaBzm3aALL0"
   },
   "source": [
    "By visual interpretation of the Histogram, we can see that greater portion of data is distributed at the left leaving a longer right/positive tail. Hence, it is a **positively skewed distribution**."
   ]
  },
  {
   "cell_type": "markdown",
   "metadata": {
    "id": "yGt0Q7WBEr6E"
   },
   "source": [
    "On the other hand, we can also judge on skewness by calculating the **coefficient of skewness**."
   ]
  },
  {
   "cell_type": "code",
   "execution_count": 14,
   "metadata": {
    "colab": {
     "base_uri": "https://localhost:8080/"
    },
    "id": "Nk5ob13lD_Hi",
    "outputId": "35bae91e-3bf0-4351-9b95-fb277997a686"
   },
   "outputs": [
    {
     "name": "stdout",
     "output_type": "stream",
     "text": [
      "0.24\n",
      "Tenure months data is positively skewed as coefficient of skewness is greater than zero.\n"
     ]
    }
   ],
   "source": [
    "skewness_value =round(df[\"Tenure Months\"].skew(),2) \n",
    "print(skewness_value)\n",
    "print(\"Tenure months data is positively skewed as coefficient of skewness is greater than zero.\")"
   ]
  },
  {
   "cell_type": "markdown",
   "metadata": {
    "id": "zZtxamYTD98K"
   },
   "source": [
    "\n",
    "For a skewed distribution, **median** is the best measure of central tendency as it is not affected by outliers in the data. As **IQR( Inter quartile Range)** is only dependent on the First and Third Quartile, there is no outlier impact and thus is the most appropriate dispersion measure."
   ]
  },
  {
   "cell_type": "code",
   "execution_count": 15,
   "metadata": {
    "colab": {
     "base_uri": "https://localhost:8080/"
    },
    "id": "F3AZPG4j-tXn",
    "outputId": "3630ce3a-81d3-4b13-cecd-5145d7ef1186"
   },
   "outputs": [
    {
     "name": "stdout",
     "output_type": "stream",
     "text": [
      "Measure of Central tendency : Median = 29.0\n",
      "\n",
      "First quartile of 'Tenure Months' variable = 9.0\n",
      "Third quartile of 'Tenure Months' variable = 55.0\n",
      "\n",
      "Measure of dispersion : IQR = 46.0\n"
     ]
    }
   ],
   "source": [
    "median_Tenure_Months= df[\"Tenure Months\"].median()\n",
    "print(f\"Measure of Central tendency : Median = {median_Tenure_Months}\\n\")\n",
    "\n",
    "# IQR = Q3 - Q1\n",
    "\n",
    "Q1_Tenure_Months= df[\"Tenure Months\"].quantile(0.25)\n",
    "print(f\"First quartile of 'Tenure Months' variable = {Q1_Tenure_Months}\")\n",
    "Q3_Tenure_Months= df[\"Tenure Months\"].quantile(0.75)\n",
    "print(f\"Third quartile of 'Tenure Months' variable = {Q3_Tenure_Months}\\n\")\n",
    "\n",
    "IQR_Tenure_Months= Q3_Tenure_Months - Q1_Tenure_Months\n",
    "print(f\"Measure of dispersion : IQR = {IQR_Tenure_Months}\")\n"
   ]
  },
  {
   "cell_type": "markdown",
   "metadata": {
    "id": "x68Vz0WalClj"
   },
   "source": [
    "## **Q5: Please convert all binary columns into 0 and 1 using appropriate programming constructs, not one by one.**"
   ]
  },
  {
   "cell_type": "markdown",
   "metadata": {
    "id": "h4sTxkezKPeE"
   },
   "source": [
    "A binary variable is the one that has only two possible outcomes. It is also known as Dichotomous variable.\n",
    "In our dataset, there are 8 binary variables.\n",
    "1. Gender\n",
    "2. Senior Citizen\n",
    "3. Partner\n",
    "4. Dependents \n",
    "5. Phone service\n",
    "6. Paperless billing\n",
    "7. Churn label\n",
    "8. Churn value\n",
    "\n",
    "Among these 8, Churn Value is already in terms of 0 and 1. So, we need to convert remaining columns."
   ]
  },
  {
   "cell_type": "code",
   "execution_count": 16,
   "metadata": {
    "colab": {
     "base_uri": "https://localhost:8080/"
    },
    "id": "-hsH8x0kLYVX",
    "outputId": "3f493c93-a473-4e6b-e084-2037183064fd"
   },
   "outputs": [
    {
     "name": "stdout",
     "output_type": "stream",
     "text": [
      "   CustomerID Count        Country       State         City Zip Code  \\\n",
      "0  3668-QPYBK   1.0  United States  California  Los Angeles  90003.0   \n",
      "1  9237-HQITU   1.0  United States  California  Los Angeles  90005.0   \n",
      "2  9305-CDSKC   1.0  United States  California  Los Angeles  90006.0   \n",
      "3  7892-POOKP   1.0  United States  California  Los Angeles  90010.0   \n",
      "4  0280-XJGEX   1.0  United States  California  Los Angeles  90015.0   \n",
      "\n",
      "                 Lat Long   Latitude   Longitude  Gender  ...        Contract  \\\n",
      "0  33.964131, -118.272783  33.964131 -118.272783       0  ...  Month-to-month   \n",
      "1   34.059281, -118.30742  34.059281 -118.307420       1  ...  Month-to-month   \n",
      "2  34.048013, -118.293953  34.048013 -118.293953       1  ...  Month-to-month   \n",
      "3  34.062125, -118.315709  34.062125 -118.315709       1  ...  Month-to-month   \n",
      "4  34.039224, -118.266293  34.039224 -118.266293       0  ...  Month-to-month   \n",
      "\n",
      "   Paperless Billing             Payment Method  Monthly Charges  \\\n",
      "0                  1               Mailed check            53.85   \n",
      "1                  1           Electronic check            70.70   \n",
      "2                  1           Electronic check            99.65   \n",
      "3                  1           Electronic check           104.80   \n",
      "4                  1  Bank transfer (automatic)           103.70   \n",
      "\n",
      "   Total Charges Churn Label Churn Value Churn Score    CLTV  \\\n",
      "0         108.15           1         1.0        86.0  3239.0   \n",
      "1         151.65           1         1.0        67.0  2701.0   \n",
      "2         820.50           1         1.0        86.0  5372.0   \n",
      "3        3046.05           1         1.0        84.0  5003.0   \n",
      "4        5036.30           1         1.0        89.0  5340.0   \n",
      "\n",
      "                    Churn Reason  \n",
      "0   Competitor made better offer  \n",
      "1                          Moved  \n",
      "2                          Moved  \n",
      "3                          Moved  \n",
      "4  Competitor had better devices  \n",
      "\n",
      "[5 rows x 33 columns]\n"
     ]
    }
   ],
   "source": [
    "# We are storing column names in a list named 'col'\n",
    "col = [\"Gender\",\"Senior Citizen\",\"Partner\",\"Dependents\",\"Phone Service\",\"Paperless Billing\",\"Churn Label\"]\n",
    "\n",
    "# To avoid executing the same code multiple times, we are now using a 'for loop' with 'if and elif' statements.\n",
    "\n",
    "for i in col:\n",
    "  if df[i][0]==\"Yes\" or df[i][0]==\"No\":\n",
    "     df[i] = df[i].replace({'No': 0, 'Yes': 1})\n",
    "  elif df[i][0]==\"Male\" or df[i][0]==\"Female\":\n",
    "     df[i] = df[i].replace({'Male': 0, 'Female': 1})\n",
    "\n",
    "print(df.head())\n"
   ]
  },
  {
   "cell_type": "markdown",
   "metadata": {
    "id": "FE2TwQndVA9U"
   },
   "source": [
    "Thus, all binary columns are converted in the form of 0's and 1's."
   ]
  },
  {
   "cell_type": "markdown",
   "metadata": {
    "id": "xgg8eFZglCnI"
   },
   "source": [
    "## **Q6: Please examine the distribution of monthly charges between males and females using box plots. Please explain the results also.**\n"
   ]
  },
  {
   "cell_type": "markdown",
   "metadata": {
    "id": "GvG94VhOqBe-"
   },
   "source": [
    "Below is the **Box plot** depicting the distribution of monthly charges for both males and females.\n",
    "\n",
    "Gender is specified on the X-axis, whereas monthly charges is given on the Y-axis."
   ]
  },
  {
   "cell_type": "code",
   "execution_count": 17,
   "metadata": {
    "colab": {
     "base_uri": "https://localhost:8080/",
     "height": 447
    },
    "id": "4ooJ_YjMlyiB",
    "outputId": "1f71cb9a-eaac-4adf-af39-5f70fee0ad61"
   },
   "outputs": [
    {
     "data": {
      "image/png": "[encoded data removed]",
      "text/plain": [
       "<Figure size 432x432 with 1 Axes>"
      ]
     },
     "metadata": {
      "needs_background": "light"
     },
     "output_type": "display_data"
    }
   ],
   "source": [
    "plt.figure(figsize=(6,6))\n",
    "plt.title(\"'Box plot' \\n Distribution of Monthly Charges gender wise.\\n\",fontsize = 16)\n",
    "sns.boxenplot(x = df[\"Gender\"],y = df[\"Monthly Charges\"],width=0.5)\n",
    "plt.xlabel(\"Gender\",fontsize=13)\n",
    "plt.ylabel(\"Monthly Charges\",fontsize=13)\n",
    "plt.xticks([0,1],[\"Male\",\"Female\"],fontsize=13)\n",
    "plt.ylim(10,130)\n",
    "plt.show()"
   ]
  },
  {
   "cell_type": "code",
   "execution_count": 18,
   "metadata": {
    "colab": {
     "base_uri": "https://localhost:8080/"
    },
    "id": "zuJVcpKsldmh",
    "outputId": "cd27f9bf-f16d-4ed3-da8d-12cade91160d"
   },
   "outputs": [
    {
     "name": "stdout",
     "output_type": "stream",
     "text": [
      "Median monthly charges of Female and Male :\n",
      "Gender\n",
      "0    70.10\n",
      "1    70.65\n",
      "Name: Monthly Charges, dtype: float64\n"
     ]
    }
   ],
   "source": [
    "a = df.groupby(\"Gender\")[\"Monthly Charges\"].median()\n",
    "\n",
    "print(f\"Median monthly charges of Female and Male :\\n{a}\")\n"
   ]
  },
  {
   "cell_type": "markdown",
   "metadata": {
    "id": "d8VDxTENZ__b"
   },
   "source": [
    "Here, the distribution of monthly charges is **approximately similar** for both males and females. \n",
    "\n",
    "Both do not have outliers above or below whiskers. \n",
    "\n",
    "They both have maximum data distributed to the right with a long left tail. Thus, **negatively skewed**."
   ]
  },
  {
   "cell_type": "markdown",
   "metadata": {
    "id": "z-x8RANplCoZ"
   },
   "source": [
    "## **Q7: Please find what is the minimum total charges for Los Angeles city. Please find which zip code has the maximum total charges.**"
   ]
  },
  {
   "cell_type": "markdown",
   "metadata": {
    "id": "429BQKSjqbFp"
   },
   "source": [
    "**1. Minimum total charges for Los Angeles city**"
   ]
  },
  {
   "cell_type": "code",
   "execution_count": 19,
   "metadata": {
    "colab": {
     "base_uri": "https://localhost:8080/"
    },
    "id": "xJCYnPDbKSzA",
    "outputId": "d6e179b0-ae05-439a-ddc9-42e3c796439d"
   },
   "outputs": [
    {
     "name": "stdout",
     "output_type": "stream",
     "text": [
      "TOTAL CHARGES FOR 'LOS ANGELES' CITY \n",
      "\n",
      "-------------------------------------------\n",
      "Index  Total Charges\n",
      "0       108.15\n",
      "1       151.65\n",
      "2       820.50\n",
      "3      3046.05\n",
      "4      5036.30\n",
      "5       528.35\n",
      "6        39.65\n",
      "7        20.15\n",
      "8      4749.15\n",
      "9        30.20\n",
      "10     1093.10\n",
      "11      316.90\n",
      "12     3549.25\n",
      "13     1105.40\n",
      "14      144.15\n",
      "15     1426.40\n",
      "16      633.30\n",
      "17     1752.55\n",
      "436     134.50\n",
      "437    5341.80\n",
      "Name: Total Charges, dtype: float64\n",
      "-------------------------------------------\n",
      "\n",
      "\n",
      "Minimum Total charges for 'Los Angeles' city is 18.8\n"
     ]
    }
   ],
   "source": [
    "tc_Los_Angeles = df.loc[df['City'] == \"Los Angeles\",'Total Charges']\n",
    "print(\"TOTAL CHARGES FOR 'LOS ANGELES' CITY \\n\")\n",
    "print(\"-------------------------------------------\")\n",
    "print(\"Index  Total Charges\")\n",
    "print(tc_Los_Angeles.head(20))\n",
    "print(\"-------------------------------------------\")\n",
    "\n",
    "min_tc= tc_Los_Angeles .min()\n",
    "print(\"\\n\")\n",
    "print(f\"Minimum Total charges for 'Los Angeles' city is {min_tc}\")\n"
   ]
  },
  {
   "cell_type": "markdown",
   "metadata": {
    "id": "4bsWCr2mq6qf"
   },
   "source": [
    "**2. Zip code with maximum total charges**"
   ]
  },
  {
   "cell_type": "code",
   "execution_count": 20,
   "metadata": {
    "colab": {
     "base_uri": "https://localhost:8080/"
    },
    "id": "cTIRCUHblx_D",
    "outputId": "a3428fa3-21e7-468d-e6ce-4bacd0e777e9"
   },
   "outputs": [
    {
     "name": "stdout",
     "output_type": "stream",
     "text": [
      "Maximum total charges is 8684.8\n",
      "\n",
      "Zip Code that has maximum total charges is 95519\n"
     ]
    }
   ],
   "source": [
    "max_tc= df[\"Total Charges\"].max()\n",
    "print(f\"Maximum total charges is {max_tc}\\n\")\n",
    "\n",
    "# we are using loc( ) function to extract data values using index label.\n",
    "\n",
    "zipc = df.loc[df['Total Charges'] == max_tc, 'Zip Code']\n",
    "print(f\"Zip Code that has maximum total charges is {int(zipc)}\")"
   ]
  },
  {
   "cell_type": "markdown",
   "metadata": {
    "id": "x930KuTllCpm"
   },
   "source": [
    "## **Q8: Please find which payment method has the highest churn score and which has the lowest churn score.**"
   ]
  },
  {
   "cell_type": "code",
   "execution_count": 21,
   "metadata": {
    "colab": {
     "base_uri": "https://localhost:8080/"
    },
    "id": "KqhJp6218tgG",
    "outputId": "1ef2222c-f7eb-4bf8-e4ab-b3be0dc1fdcf"
   },
   "outputs": [
    {
     "name": "stdout",
     "output_type": "stream",
     "text": [
      "100.0\n",
      "5.0\n"
     ]
    }
   ],
   "source": [
    "max_churn_score = df[\"Churn Score\"].max()\n",
    "min_churn_score = df[\"Churn Score\"].min()\n",
    "\n",
    "print(max_churn_score)\n",
    "print(min_churn_score)"
   ]
  },
  {
   "cell_type": "markdown",
   "metadata": {
    "id": "O7DJ6ZFB8nnD"
   },
   "source": [
    "So, maximum value of Churn Score is 100 and Minimum value is 5. To know which payment method has the highest and lowest Churn scores, let's make a Boxen Plot.\n",
    "\n",
    "X-Axis has different Payment Methods whereas Churn Score is shown on the Y-Axis.\n"
   ]
  },
  {
   "cell_type": "code",
   "execution_count": 22,
   "metadata": {
    "colab": {
     "base_uri": "https://localhost:8080/",
     "height": 584
    },
    "id": "n0EkhsXGl6iz",
    "outputId": "3d11c984-64d4-49fb-d6fe-f6b6ea709f98"
   },
   "outputs": [
    {
     "data": {
      "image/png": "[encoded data removed]",
      "text/plain": [
       "<Figure size 576x576 with 1 Axes>"
      ]
     },
     "metadata": {
      "needs_background": "light"
     },
     "output_type": "display_data"
    }
   ],
   "source": [
    "plt.figure(figsize=(8,8))\n",
    "plt.title(\"'Boxen plot' \\n Distribution of Churn Score\\n (Payment method wise)\\n\",fontsize = 16)\n",
    "sns.boxenplot(x = df[\"Payment Method\"],y = df[\"Churn Score\"],width=0.5,linewidth=1.2)\n",
    "plt.xlabel(\"\\nPayment Methods\",fontsize=13)\n",
    "plt.ylabel(\"Churn Score\",fontsize=13)\n",
    "plt.xticks(fontsize=8)\n",
    "plt.ylim(0,110)\n",
    "plt.show()"
   ]
  },
  {
   "cell_type": "markdown",
   "metadata": {
    "id": "Kmm8FR5R8lku"
   },
   "source": [
    "From the above plot, it is evident that **Credit Card** has the lowest churn score of 5. No other payment method has churn score below this.\n",
    "\n",
    "Coming to the highest churn score, **all four payment methods** (Mailed Check, Electronic Check , Bank transfer and credit card) have a score of 100.\n",
    "\n",
    "On an average, **Electronic check** has the highest churn score, while remaining three have almost similar score.\n",
    "\n",
    "\n"
   ]
  },
  {
   "cell_type": "markdown",
   "metadata": {
    "id": "6j0nGJkmlCwX"
   },
   "source": [
    "## **Q9: Please create an appropriate plot to check the count of payment methods and explain it.**"
   ]
  },
  {
   "cell_type": "markdown",
   "metadata": {
    "id": "NIl0gp092JYu"
   },
   "source": [
    "We can see that there are 4 categories of Payment Methods namely, bank transfer , credit card , electronic check and mailed check. \n",
    "\n",
    "We are making a **Count Plot** to check the count of payment methods."
   ]
  },
  {
   "cell_type": "code",
   "execution_count": 23,
   "metadata": {
    "colab": {
     "base_uri": "https://localhost:8080/",
     "height": 579
    },
    "id": "-Lqb0sIl5LNG",
    "outputId": "2f60d73d-676f-4e85-cf22-8738cb970ebc"
   },
   "outputs": [
    {
     "data": {
      "image/png": "[encoded data removed]",
      "text/plain": [
       "<Figure size 576x360 with 1 Axes>"
      ]
     },
     "metadata": {
      "needs_background": "light"
     },
     "output_type": "display_data"
    },
    {
     "name": "stdout",
     "output_type": "stream",
     "text": [
      "\t\n",
      "------------------------------------\n",
      "Payment Methods              Count \n",
      "------------------------------------\n",
      "\t\n",
      "Electronic check             2365\n",
      "Mailed check                 1612\n",
      "Bank transfer (automatic)    1544\n",
      "Credit card (automatic)      1522\n",
      "Name: Payment Method, dtype: int64\n",
      "------------------------------------\n",
      "\t\n"
     ]
    }
   ],
   "source": [
    "\n",
    "plt.figure(figsize=(8,5))\n",
    "plt.title(\"Count Plot \\n Payment Methods\", fontsize=15)\n",
    "sns.countplot(data = df ,x ='Payment Method')\n",
    "plt.xticks(fontsize=8)\n",
    "plt.xlabel(\"Payment methods\", fontsize=12)\n",
    "plt.ylabel(\"Number of customers\", fontsize=12)\n",
    "plt.show()\n",
    "print(\"\\t\")\n",
    "\n",
    "# To get count of unique entries\n",
    "print(\"------------------------------------\")\n",
    "print(\"Payment Methods              Count \")\n",
    "print(\"------------------------------------\")\n",
    "print(\"\\t\")\n",
    "t =df['Payment Method'].value_counts()\n",
    "print(t)\n",
    "print(\"------------------------------------\")\n",
    "print(\"\\t\")"
   ]
  },
  {
   "cell_type": "markdown",
   "metadata": {
    "id": "1upFobOF9jKS"
   },
   "source": [
    "Through visual interpretation of Count Plot, we can say that a majority of customers make their bill payments through **Electronic checks**. \n",
    "\n",
    "Among the remaining three, there is no much count difference seen. Three payment methods are approximately equally chosen by customers.\n"
   ]
  },
  {
   "cell_type": "markdown",
   "metadata": {
    "id": "e1JiDGgPlCzl"
   },
   "source": [
    "## **Q10: Please create an appropriate plot to see the relationship between monthly charges and total charges.**"
   ]
  },
  {
   "cell_type": "markdown",
   "metadata": {
    "id": "U9mOK_TjA9t3"
   },
   "source": [
    "Here, both variables 'Monthly charges' and 'total charges' are **quantitative** in nature. To know the relationship between two quantitative variables, we are using a **Scatter Plot**.\n",
    "\n",
    "Dependent variable **X** = Monthly Charges\n",
    "\n",
    "Independent variable **Y** = Total Charges"
   ]
  },
  {
   "cell_type": "code",
   "execution_count": 24,
   "metadata": {
    "colab": {
     "base_uri": "https://localhost:8080/",
     "height": 450
    },
    "id": "XfFEL5CWARWu",
    "outputId": "5cfc69e2-b580-4a2d-a49f-4f6d5dfb0b64"
   },
   "outputs": [
    {
     "name": "stdout",
     "output_type": "stream",
     "text": [
      "\t\n"
     ]
    },
    {
     "data": {
      "image/png": "[encoded data removed]",
      "text/plain": [
       "<Figure size 432x432 with 1 Axes>"
      ]
     },
     "metadata": {
      "needs_background": "light"
     },
     "output_type": "display_data"
    }
   ],
   "source": [
    "plt.figure(figsize=(6,6))\n",
    "plt.title(\"Scatter Plot \\n Relationship between Monthly Charges and Total charges\",fontsize = 17)\n",
    "print(\"\\t\")\n",
    "sns.regplot(data = df, x = 'Monthly Charges',y = 'Total Charges', scatter_kws={\"color\": \"Pink\"}, line_kws={\"color\": \"red\"})\n",
    "plt.xlabel(\"Monthly Charges\",fontsize = 14)\n",
    "plt.ylabel(\"Total charges \",fontsize = 14)\n",
    "plt.show()"
   ]
  },
  {
   "cell_type": "markdown",
   "metadata": {
    "id": "1XUSMY8lA-nb"
   },
   "source": [
    "As we can clearly see an upward linear trend, we can say that both Monthly charges and total charges are positively related to each other. \n",
    "\n",
    "They move in **same direction**. As monthly charges increases, total charges also increases.\n",
    "\n"
   ]
  }
 ],
 "metadata": {
  "colab": {
   "collapsed_sections": [],
   "name": "Mini Capstone Project (Medha Ranga)-DS14.ipynb",
   "provenance": []
  },
  "kernelspec": {
   "display_name": "Python 3",
   "language": "python",
   "name": "python3"
  },
  "language_info": {
   "codemirror_mode": {
    "name": "ipython",
    "version": 3
   },
   "file_extension": ".py",
   "mimetype": "text/x-python",
   "name": "python",
   "nbconvert_exporter": "python",
   "pygments_lexer": "ipython3",
   "version": "3.6.5"
  }
 },
 "nbformat": 4,
 "nbformat_minor": 1
}
